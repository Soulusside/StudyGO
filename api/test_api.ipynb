{
 "cells": [
  {
   "cell_type": "code",
   "execution_count": 3,
   "metadata": {},
   "outputs": [],
   "source": [
    "from pprint import pprint as pp\n",
    "import requests"
   ]
  },
  {
   "cell_type": "code",
   "execution_count": 7,
   "metadata": {},
   "outputs": [],
   "source": [
    "def view_pretty(text):\n",
    "    text = text.replace('true', 'True')\n",
    "    text = text.replace('false', 'False')\n",
    "    text = text.replace('null', 'None')\n",
    "    \n",
    "    pp(eval(text))\n",
    "\n",
    "url = 'http://egorovm.pythonanywhere.com/api'"
   ]
  },
  {
   "cell_type": "markdown",
   "metadata": {},
   "source": [
    "# Animal"
   ]
  },
  {
   "cell_type": "markdown",
   "metadata": {},
   "source": [
    "### filter"
   ]
  },
  {
   "cell_type": "code",
   "execution_count": 18,
   "metadata": {},
   "outputs": [],
   "source": [
    "data = {\n",
    "    'kind': 'Собака',\n",
    "    'sex': True,\n",
    "    'min_weight': 5,\n",
    "    'max_weight': 16,\n",
    "    'min_age': 0\n",
    "}\n",
    "\n",
    "body = {\n",
    "    'section': 'animal', \n",
    "    'method' : 'filter', \n",
    "    'params': str(data)\n",
    "}"
   ]
  },
  {
   "cell_type": "code",
   "execution_count": 19,
   "metadata": {},
   "outputs": [
    {
     "name": "stdout",
     "output_type": "stream",
     "text": [
      "{'error_code': 0,\n",
      " 'error_text': 'Успешно!',\n",
      " 'result': {'count': 3,\n",
      "            'data': [{'age': 2019,\n",
      "                      'breed': 'Метис',\n",
      "                      'cart_number': '85.20',\n",
      "                      'id': 56,\n",
      "                      'name': 'Рейв',\n",
      "                      'sex': 'Мужской'},\n",
      "                     {'age': 2019,\n",
      "                      'breed': 'Метис',\n",
      "                      'cart_number': '87.20',\n",
      "                      'id': 58,\n",
      "                      'name': 'Крош',\n",
      "                      'sex': 'Мужской'},\n",
      "                     {'age': 2019,\n",
      "                      'breed': 'Метис',\n",
      "                      'cart_number': '53',\n",
      "                      'id': 265,\n",
      "                      'name': 'без клички',\n",
      "                      'sex': 'Мужской'}]}}\n"
     ]
    }
   ],
   "source": [
    "view_pretty(requests.get(url, body).text)"
   ]
  },
  {
   "cell_type": "markdown",
   "metadata": {},
   "source": [
    "### get_animal"
   ]
  },
  {
   "cell_type": "code",
   "execution_count": 16,
   "metadata": {},
   "outputs": [
    {
     "data": {
      "text/plain": [
       "{'section': 'animal',\n",
       " 'method': 'filter',\n",
       " 'params': \"{'kind': 'Собака', 'sex': True, 'min_weight': 5, 'max_weight': 16, 'min_age': 0}\"}"
      ]
     },
     "execution_count": 16,
     "metadata": {},
     "output_type": "execute_result"
    }
   ],
   "source": [
    "body"
   ]
  },
  {
   "cell_type": "code",
   "execution_count": 17,
   "metadata": {},
   "outputs": [
    {
     "name": "stdout",
     "output_type": "stream",
     "text": [
      "{'error_code': 0,\n",
      " 'error_text': 'Успешно!',\n",
      " 'result': {'animal': {'age': 2019,\n",
      "                       'breed': 'Метис',\n",
      "                       'cart_number': '87.20',\n",
      "                       'color': 'светло-коричневый',\n",
      "                       'current_shelter_address': 'г.Москва, ул.\\xa0'\n",
      "                                                  'Родниковая, вл.26',\n",
      "                       'current_shelter_email': 'egorov_michil@mail.ru',\n",
      "                       'current_shelter_name': 'Приют «Солнцево»',\n",
      "                       'ears': 'Висячие',\n",
      "                       'id': 58,\n",
      "                       'kind': 'Собака',\n",
      "                       'name': 'Крош',\n",
      "                       'sex': 'Мужской',\n",
      "                       'size_name': 'Малый',\n",
      "                       'special_signs': 'Нет',\n",
      "                       'sterialization_status': '',\n",
      "                       'sterialization_veterinarian_name': '',\n",
      "                       'tail': 'Саблевидный',\n",
      "                       'weight': 15.0,\n",
      "                       'wool': 'Короткая'}}}\n"
     ]
    }
   ],
   "source": [
    "data = {\n",
    "    'animal_id': 58,\n",
    "}\n",
    "\n",
    "body = {\n",
    "    'section': 'animal', \n",
    "    'method' : 'get_animal', \n",
    "    'params': str(data)\n",
    "}\n",
    "\n",
    "view_pretty(requests.get(url, body).text)"
   ]
  },
  {
   "cell_type": "markdown",
   "metadata": {},
   "source": [
    "# shelter"
   ]
  },
  {
   "cell_type": "markdown",
   "metadata": {},
   "source": [
    "### get_shelters"
   ]
  },
  {
   "cell_type": "code",
   "execution_count": 265,
   "metadata": {},
   "outputs": [
    {
     "name": "stdout",
     "output_type": "stream",
     "text": [
      "{'error_code': 0,\n",
      " 'error_text': 'Успешно!',\n",
      " 'result': {'count': 13,\n",
      "            'data': [{'address': 'г.Москва, Зеленоград, Фирсановское ш., вл.5А',\n",
      "                      'company': 'ГБУ \"Доринвест\"',\n",
      "                      'email': 'egorov_michil@mail.ru',\n",
      "                      'id': 1,\n",
      "                      'leader': 'Игнатов А.В.',\n",
      "                      'name': '',\n",
      "                      'telephone': ''},\n",
      "                     {'address': 'г.Москва, ул.Рассветная аллея, влд.10',\n",
      "                      'company': 'ГБУ \"Доринвест\"',\n",
      "                      'email': 'egorov_michil@mail.ru',\n",
      "                      'id': 2,\n",
      "                      'leader': 'Дружинин А.М.',\n",
      "                      'name': '',\n",
      "                      'telephone': ''},\n",
      "                     {'address': 'г.Москва, ул. Пехорская 1Б, с.6',\n",
      "                      'company': 'ГБУ \"Автомобильные дороги ВАО\"',\n",
      "                      'email': 'egorov_michil@mail.ru',\n",
      "                      'id': 3,\n",
      "                      'leader': 'Хвостичкина Н.М',\n",
      "                      'name': '',\n",
      "                      'telephone': ''},\n",
      "                     {'address': 'г.Москва, ул.\\xa0Родниковая, вл.26',\n",
      "                      'company': 'ГБУ \"Автомобильные дороги ЗАО\"',\n",
      "                      'email': 'egorov_michil@mail.ru',\n",
      "                      'id': 4,\n",
      "                      'leader': 'Чудакова И.А.',\n",
      "                      'name': '',\n",
      "                      'telephone': ''},\n",
      "                     {'address': 'г.Москва, Востряковский пр-д, вл.10 А',\n",
      "                      'company': 'ГБУ \"Автомобильные дороги ЮАО\"',\n",
      "                      'email': 'egorov_michil@mail.ru',\n",
      "                      'id': 5,\n",
      "                      'leader': 'Черкашин И.А.',\n",
      "                      'name': '',\n",
      "                      'telephone': ''},\n",
      "                     {'address': 'г.Москва, ул.Красной Сосны, вл. 30, стр.4',\n",
      "                      'company': 'ГБУ \"Автомобильные дороги СВАО\"',\n",
      "                      'email': 'egorov_michil@mail.ru',\n",
      "                      'id': 6,\n",
      "                      'leader': 'Моськин И.А.',\n",
      "                      'name': '',\n",
      "                      'telephone': ''},\n",
      "                     {'address': 'г.Москва, проезд Дубовой Рощи, вл.23-25',\n",
      "                      'company': 'ГБУ \"Автомобильные дороги СВАО\"',\n",
      "                      'email': 'egorov_michil@mail.ru',\n",
      "                      'id': 7,\n",
      "                      'leader': 'Моськин И.А.',\n",
      "                      'name': '',\n",
      "                      'telephone': ''},\n",
      "                     {'address': 'г.Москва, ул.Искры, вл. 23А',\n",
      "                      'company': 'ГБУ \"Автомобильные дороги СВАО\"',\n",
      "                      'email': 'egorov_michil@mail.ru',\n",
      "                      'id': 8,\n",
      "                      'leader': 'Моськин И.А.',\n",
      "                      'name': '',\n",
      "                      'telephone': ''},\n",
      "                     {'address': 'г.Москва, ул.Брусилова, вл.32, стр.1-5 ',\n",
      "                      'company': 'ГБУ \"Автомобильные дороги ЮЗАО\"',\n",
      "                      'email': 'egorov_michil@mail.ru',\n",
      "                      'id': 9,\n",
      "                      'leader': 'Мисочкин И.А.',\n",
      "                      'name': '',\n",
      "                      'telephone': ''},\n",
      "                     {'address': 'г.Москва, ул.2-я Вольская, вл.17 стр.3',\n",
      "                      'company': 'ГБУ \"Автомобильные\\nдороги ЮВАО\"',\n",
      "                      'email': 'egorov_michil@mail.ru',\n",
      "                      'id': 10,\n",
      "                      'leader': 'Мячиков И.А.',\n",
      "                      'name': '',\n",
      "                      'telephone': ''},\n",
      "                     {'address': 'г.Москва, Проектируемый проезд №5112, '\n",
      "                                 'вл.2\\\\1',\n",
      "                      'company': 'ГБУ \"Автомобильные\\nдороги ЮВАО\"',\n",
      "                      'email': 'egorov_michil@mail.ru',\n",
      "                      'id': 11,\n",
      "                      'leader': 'Погуляйкин И.А.',\n",
      "                      'name': '',\n",
      "                      'telephone': ''},\n",
      "                     {'address': 'г.Москва, Машкинское шоссе, вл. 4',\n",
      "                      'company': 'ГБУ \"Автомобильные дороги САО\"',\n",
      "                      'email': 'egorov_michil@mail.ru',\n",
      "                      'id': 12,\n",
      "                      'leader': 'Котиков М.Я.',\n",
      "                      'name': '',\n",
      "                      'telephone': ''},\n",
      "                     {'address': 'г.Москва, Проектируемый проезд, 727',\n",
      "                      'company': 'ГБУ \"Автомобильные дороги САО\"',\n",
      "                      'email': 'egorov_michil@mail.ru',\n",
      "                      'id': 13,\n",
      "                      'leader': 'Погуляйка И.А.',\n",
      "                      'name': '',\n",
      "                      'telephone': ''}]}}\n"
     ]
    }
   ],
   "source": [
    "view_pretty(requests.get(url, {'section': 'shelter', 'method' : 'get_shelters', 'params': str(data)}).text)"
   ]
  },
  {
   "cell_type": "markdown",
   "metadata": {},
   "source": [
    "### request"
   ]
  },
  {
   "cell_type": "code",
   "execution_count": 254,
   "metadata": {},
   "outputs": [],
   "source": [
    "data = {\n",
    "    'animal_id': 309,\n",
    "    'owner_name': 'Егоров Мичил',\n",
    "    'owner_contact': '79142639094'\n",
    "}"
   ]
  },
  {
   "cell_type": "code",
   "execution_count": 255,
   "metadata": {},
   "outputs": [
    {
     "name": "stdout",
     "output_type": "stream",
     "text": [
      "{'error_code': 0, 'error_text': 'Успешно!', 'result': {'request_id': 19}}\n"
     ]
    }
   ],
   "source": [
    "view_pretty(requests.get(url, {'section': 'shelter', 'method' : 'request', 'params': str(data)}).text)"
   ]
  },
  {
   "cell_type": "markdown",
   "metadata": {},
   "source": [
    "### leave_animal"
   ]
  },
  {
   "cell_type": "code",
   "execution_count": 257,
   "metadata": {},
   "outputs": [
    {
     "name": "stdout",
     "output_type": "stream",
     "text": [
      "{'error_code': 0, 'error_text': 'Успешно!', 'result': []}\n"
     ]
    }
   ],
   "source": [
    "data = {\n",
    "    'animal_id': 309,\n",
    "    'leave_act': '6234',\n",
    "    'leave_reason': 1,\n",
    "    'is_entity': True,\n",
    "    'organization_name': 'asd',\n",
    "    'address': '123',\n",
    "    'contacts': 'contacts',\n",
    "    'telephone': 'telephone',\n",
    "    'owner_name': 'owner_name',\n",
    "    'owner_contact': 'owner_contact',\n",
    "}\n",
    "\n",
    "view_pretty(requests.get(url, {'section': 'shelter', 'method' : 'leave_animal', 'params': str(data)}).text)"
   ]
  },
  {
   "cell_type": "code",
   "execution_count": 258,
   "metadata": {},
   "outputs": [
    {
     "name": "stdout",
     "output_type": "stream",
     "text": [
      "{'error_code': 0, 'error_text': 'Успешно!', 'result': []}\n"
     ]
    }
   ],
   "source": [
    "data = {\n",
    "    'animal_id': 4,\n",
    "    'leave_act': '6234',\n",
    "    'leave_reason': 1,\n",
    "    'is_entity': False,\n",
    "    'name': 'asd',\n",
    "    'passport_series': '123',\n",
    "    'passport_number': 'contacts',\n",
    "    'passport_issued': 'telephone',\n",
    "    'passport_date': 'owner_name',\n",
    "    'passport_address': 'owner_contact',\n",
    "    'contact': 'owner_contact',\n",
    "}\n",
    "\n",
    "view_pretty(requests.get(url, {'section': 'shelter', 'method' : 'leave_animal', 'params': str(data)}).text)"
   ]
  },
  {
   "cell_type": "markdown",
   "metadata": {},
   "source": [
    "### get_animal"
   ]
  },
  {
   "cell_type": "code",
   "execution_count": 259,
   "metadata": {},
   "outputs": [
    {
     "name": "stdout",
     "output_type": "stream",
     "text": [
      "{'error_code': 3, 'error_text': 'Животное уже не в приюте', 'result': []}\n"
     ]
    }
   ],
   "source": [
    "data = {\n",
    "    'animal_id': 4,\n",
    "}\n",
    "\n",
    "body = {\n",
    "    'section': 'animal', \n",
    "    'method' : 'get_animal', \n",
    "    'params': str(data)\n",
    "}\n",
    "\n",
    "view_pretty(requests.get(url, body).text)"
   ]
  },
  {
   "cell_type": "code",
   "execution_count": null,
   "metadata": {},
   "outputs": [],
   "source": []
  }
 ],
 "metadata": {
  "kernelspec": {
   "display_name": "cs102",
   "language": "python",
   "name": "cs102"
  },
  "language_info": {
   "codemirror_mode": {
    "name": "ipython",
    "version": 3
   },
   "file_extension": ".py",
   "mimetype": "text/x-python",
   "name": "python",
   "nbconvert_exporter": "python",
   "pygments_lexer": "ipython3",
   "version": "3.8.3"
  }
 },
 "nbformat": 4,
 "nbformat_minor": 4
}
