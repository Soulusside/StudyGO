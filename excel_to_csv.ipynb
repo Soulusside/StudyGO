{
 "cells": [
  {
   "cell_type": "code",
   "execution_count": null,
   "metadata": {},
   "outputs": [],
   "source": [
    "import xlrd\n",
    "import copy\n",
    "\n",
    "import pandas as pd\n",
    "import numpy as np\n",
    "\n",
    "pd.options.display.max_columns = 99\n",
    "pd.options.display.max_rows = 15"
   ]
  },
  {
   "cell_type": "code",
   "execution_count": null,
   "metadata": {},
   "outputs": [],
   "source": [
    "import datetime\n",
    "import locale\n",
    "locale.setlocale(locale.LC_TIME, 'ru_RU.UTF-8')\n",
    "\n",
    "def find_rows_by_col_val(col, value):\n",
    "    rows = []\n",
    "    for row in df.iloc:\n",
    "        if row[col] == value:\n",
    "            rows.append(row)\n",
    "            \n",
    "    return rows\n",
    "\n",
    "def capitalize_and_strip_column(column_name):\n",
    "    df[column_name] = df[column_name].str.strip().str.capitalize()\n",
    "\n",
    "def format_str_to_date(date):\n",
    "    if isinstance(date, datetime.datetime):\n",
    "        return date\n",
    "    \n",
    "    date = str(date)\n",
    "    \n",
    "    if isinstance(date, str):\n",
    "        if len(date.split()) == 1:\n",
    "            try:\n",
    "                return datetime.datetime.strptime(date, u'%d.%m.%Yг.')\n",
    "            except:\n",
    "                pass\n",
    "            \n",
    "            try:\n",
    "                return datetime.datetime.strptime(date, u'%d%m%Y')\n",
    "            except:\n",
    "                pass\n",
    "            \n",
    "            try:\n",
    "                return datetime.datetime.strptime(date, u'%d.%m.%Y.')\n",
    "            except:\n",
    "                pass\n",
    "\n",
    "            return datetime.datetime.strptime(date.strip(), u'%d.%m.%Y')\n",
    "\n",
    "        elif len(date.split()) == 3:\n",
    "            try:\n",
    "                return datetime.datetime.strptime(date, u'%d %m %Y')\n",
    "            except:\n",
    "                pass\n",
    "\n",
    "            return datetime.datetime.strptime(date, u'%d %B %Y')\n",
    "    \n",
    "def format_date_col(column_name):\n",
    "    for i, date in enumerate(df[column_name]):\n",
    "        \n",
    "        try:\n",
    "            df[column_name][i] = format_str_to_date(date)\n",
    "        except:\n",
    "            pass\n",
    "            \n",
    "def parse_dates_to_list_col(column_name):\n",
    "     for i, dates in enumerate(df[column_name]):\n",
    "        l = []\n",
    "        \n",
    "        try:\n",
    "            date = format_str_to_date(dates)\n",
    "            df[column_name][i] = [date.strftime('%Y-%m-%d %H:%M:%S')]\n",
    "            continue\n",
    "        except:\n",
    "            pass\n",
    "            \n",
    "        if isinstance(dates, str):\n",
    "            for date in dates.split():\n",
    "                try:\n",
    "                    date = format_str_to_date(date)\n",
    "                    l.append(date.strftime('%Y-%m-%d %H:%M:%S'))\n",
    "                except:\n",
    "                    pass\n",
    "                    \n",
    "            df[column_name][i] = l\n",
    "        elif not pd.isna(df[column_name][i]):\n",
    "            df[column_name][i] = [df[column_name][i].strftime('%Y-%m-%d %H:%M:%S')]\n",
    "\n",
    "vacines = [\n",
    "    'Бешенство',\n",
    "    'Мультикан-6',\n",
    "    'Рабикан',\n",
    "    'Нобивак Трикат',\n",
    "    'Леоминор',\n",
    "    'Пуревакс FelV',\n",
    "    'Мультикан',\n",
    "    'Мультифел-4',\n",
    "    'Мультикан-4',\n",
    "    'Мультикан-8',\n",
    "    'Мультикан-9',\n",
    "    'Nobivac Tricat Trio+R',\n",
    "    'Нобивак DHPPI',\n",
    "    'Нобивак Lepto',\n",
    "    'Астерион DHPPi-L',\n",
    "    'Нобивак Трикат Трио',\n",
    "    'Нобивак Трикат Трио Леоминор',\n",
    "    'Леоминор',\n",
    "    'Нобивак',\n",
    "    'Lepto',\n",
    "    'Астерион']\n",
    "\n",
    "drugs = [\n",
    "    'Азинокс',\n",
    "    'Паразицид-суспензия',\n",
    "    'Стронгхолд',\n",
    "    'Стронхолд',\n",
    "    'Блох нэт/ альвет',\n",
    "    'Тронцил',\n",
    "    'Инсектал',\n",
    "    'Дана СПОТ-ОН/Алевит',\n",
    "    'Рольф Клуб',\n",
    "    'Прател',\n",
    "    'БАРС',\n",
    "    'Рольф клуб 3D',\n",
    "    'Инспектор Тотал К',\n",
    "    'Празител',\n",
    "    'Каниквантел Барс',\n",
    "    'Дронтал',\n",
    "    'Барс для кошек']\n",
    "\n",
    "vacines.sort(key=lambda x: len(x), reverse=True)\n",
    "drugs.sort(key=lambda x: len(x), reverse=True)\n",
    "\n",
    "vacines_dict = dict([(vacines[i], str(i+1)) for i in range(len(vacines))])\n",
    "drugs_dict = dict([(drugs[i], str(i+1)) for i in range(len(drugs))])"
   ]
  },
  {
   "cell_type": "code",
   "execution_count": 3,
   "metadata": {},
   "outputs": [],
   "source": [
    "def prepare_dataframe():\n",
    "    df.columns = ['index', 'animal__cart_number', 'animal__@kind', 'animal__age', \n",
    "              'animal__weight', 'animal__name', 'animal__@sex', \n",
    "              'animal__@breed', 'animal__@color', 'animal__@wool', 'animal__@ears', \n",
    "              'animal__@tail', 'animal__size', 'animal__special_signs', \n",
    "              \n",
    "              'animal_shelter__aviary_number', 'animal__identification_number', \n",
    "              'animal__sterilization_status', 'animal__sterilization_veterinarian_name', 'animal__is_socialization',\n",
    "              'animal_capture__certificater', 'animal_capture__certificater_date',\n",
    "              'animal_capture__district', 'animal_capture__act', 'animal_capture__address',\n",
    "             \n",
    "              'owner_entity__organization_name', 'owner_entity__address', 'owner_entity__contacts',\n",
    "              'owner_entity__owner_name', 'owner_entity__owner_address', 'owner_entity__owner_contact',\n",
    "              'owner_individual__name', 'owner_individual__passport_series', 'owner_individual__issued', \n",
    "              'owner_individual__passport_date', 'owner_individual__passport_address', 'owner_individual__contact',\n",
    "              'animal_shelter__arrived_date', 'animal_shelter__arrived_act', \n",
    "              'animal_shelter__leave_date', 'animal_shelter__leave_reason', 'animal_shelter__leave_act',\n",
    "              'shelter__address', 'shelter__company', 'shelter__leader', \n",
    "              'animal_schelter__responsible', \n",
    "              'animal_drug__numbers', 'animal_drug__dates', 'animal_drug__names', 'animal_drug__doses',\n",
    "              'animal_vacine__numbers', 'animal_vacine__dates', 'animal_vacine__names',\n",
    "              'animal_vacine__series', 'animal_inspection__date', 'animal_inspection__anamnes']\n",
    "    \n",
    "    df.animal_vacine__names = df.animal_vacine__names.astype('str').str.lower()\n",
    "\n",
    "    for vacine in vacines:\n",
    "        df.animal_vacine__names = df.animal_vacine__names.str.replace(vacine.lower(), vacines_dict[vacine])\n",
    "\n",
    "    for i in range(df.shape[0]):\n",
    "        df.animal_vacine__names[i] = df.animal_vacine__names[i].replace('nobivac tricat trio+r', '2')\n",
    "\n",
    "    df.animal_drug__names = df.animal_drug__names.astype('str').str.lower()\n",
    "\n",
    "    for drug in drugs:\n",
    "        df.animal_drug__names = df.animal_drug__names.str.replace(drug.lower(), drugs_dict[drug])\n",
    "\n",
    "    for field in ['animal__@kind', 'animal__@sex', 'animal__@breed', 'animal__@wool', \n",
    "                  'animal__@tail', 'animal__@ears', 'animal__size', 'animal__special_signs',\n",
    "                  'animal__is_socialization', 'animal_shelter__leave_reason']:\n",
    "\n",
    "        capitalize_and_strip_column(field)\n",
    "\n",
    "    for field in ['animal__sterilization_status', 'animal_shelter__arrived_date', 'animal_shelter__leave_date',\n",
    "                  'animal_capture__certificater_date', 'owner_individual__passport_date', 'animal_inspection__date']:\n",
    "        format_date_col(field)\n",
    "\n",
    "    for field in ['animal_vacine__numbers', 'animal_vacine__series', 'animal_drug__numbers',\n",
    "                  'animal_vacine__names', 'animal_drug__names', 'animal_drug__doses']:\n",
    "        df[field] = df[field].astype('str').str.split()\n",
    "\n",
    "    for field in ['animal_drug__dates', 'animal_vacine__dates']:\n",
    "        parse_dates_to_list_col(field)\n",
    "\n",
    "    df.animal__age = df.animal__age.astype('str').str.split('-').str[0]\n",
    "    \n",
    "    df.animal__is_socialization = df.animal__is_socialization.map({'Да': True, 'Нет': False})\n",
    "    df.animal__size = df.animal__size.map({'Малый': '1', 'Средний': '2', 'Большой': '3', 'Крупный': '4'})"
   ]
  },
  {
   "cell_type": "code",
   "execution_count": 4,
   "metadata": {},
   "outputs": [
    {
     "name": "stderr",
     "output_type": "stream",
     "text": [
      "<ipython-input-3-373228ec3f3b>:30: SettingWithCopyWarning: \n",
      "A value is trying to be set on a copy of a slice from a DataFrame\n",
      "\n",
      "See the caveats in the documentation: https://pandas.pydata.org/pandas-docs/stable/user_guide/indexing.html#returning-a-view-versus-a-copy\n",
      "  df.animal_vacine__names[i] = df.animal_vacine__names[i].replace('nobivac tricat trio+r', '2')\n",
      "<ipython-input-2-a3857aab9faf>:53: SettingWithCopyWarning: \n",
      "A value is trying to be set on a copy of a slice from a DataFrame\n",
      "\n",
      "See the caveats in the documentation: https://pandas.pydata.org/pandas-docs/stable/user_guide/indexing.html#returning-a-view-versus-a-copy\n",
      "  df[column_name][i] = format_str_to_date(date)\n",
      "<ipython-input-2-a3857aab9faf>:63: SettingWithCopyWarning: \n",
      "A value is trying to be set on a copy of a slice from a DataFrame\n",
      "\n",
      "See the caveats in the documentation: https://pandas.pydata.org/pandas-docs/stable/user_guide/indexing.html#returning-a-view-versus-a-copy\n",
      "  df[column_name][i] = [date.strftime('%Y-%m-%d %H:%M:%S')]\n",
      "<ipython-input-2-a3857aab9faf>:76: SettingWithCopyWarning: \n",
      "A value is trying to be set on a copy of a slice from a DataFrame\n",
      "\n",
      "See the caveats in the documentation: https://pandas.pydata.org/pandas-docs/stable/user_guide/indexing.html#returning-a-view-versus-a-copy\n",
      "  df[column_name][i] = l\n"
     ]
    }
   ],
   "source": [
    "df = pd.read_excel('Data_set.xlsx')[:-1]\n",
    "prepare_dataframe()"
   ]
  },
  {
   "cell_type": "code",
   "execution_count": 5,
   "metadata": {},
   "outputs": [],
   "source": [
    "df.drop('index', axis=1).to_csv('animal_data_set.csv', sep=';')"
   ]
  },
  {
   "cell_type": "code",
   "execution_count": 18,
   "metadata": {},
   "outputs": [
    {
     "data": {
      "text/plain": [
       "[('1', 'Обычный'),\n",
       " ('2', 'Саблевидный'),\n",
       " ('3', 'Купированный'),\n",
       " ('4', 'Крючком'),\n",
       " ('5', 'Прутом'),\n",
       " ('6', 'Поленом')]"
      ]
     },
     "execution_count": 18,
     "metadata": {},
     "output_type": "execute_result"
    }
   ],
   "source": [
    "tails = [(str(ind+1), key) for ind, key in enumerate(df.animal__tail.value_counts().index)]\n",
    "tails"
   ]
  },
  {
   "cell_type": "code",
   "execution_count": 19,
   "metadata": {},
   "outputs": [
    {
     "data": {
      "text/plain": [
       "[('1', 'Метис'), ('2', 'Алабай')]"
      ]
     },
     "execution_count": 19,
     "metadata": {},
     "output_type": "execute_result"
    }
   ],
   "source": [
    "breeds = [(str(ind+1), key) for ind, key in enumerate(df.animal__breed.value_counts().index)]\n",
    "breeds"
   ]
  },
  {
   "cell_type": "code",
   "execution_count": null,
   "metadata": {},
   "outputs": [],
   "source": [
    "breeds = [(str(ind+1), key) for ind, key in enumerate(df.animal__breed.value_counts().index)]\n",
    "breeds"
   ]
  },
  {
   "cell_type": "code",
   "execution_count": 20,
   "metadata": {},
   "outputs": [
    {
     "data": {
      "text/plain": [
       "[('1', 'чепрачный'),\n",
       " ('2', 'светло-коричневый'),\n",
       " ('3', 'черный'),\n",
       " ('4', 'черно-белый'),\n",
       " ('5', 'биколор'),\n",
       " ('6', 'рыжий'),\n",
       " ('7', 'тигровый'),\n",
       " ('8', 'белый'),\n",
       " ('9', 'триколор'),\n",
       " ('10', 'темно-коричневый'),\n",
       " ('11', 'палевый'),\n",
       " ('12', 'кремовый'),\n",
       " ('13', 'серебристый'),\n",
       " ('14', 'перец с солью'),\n",
       " ('15', 'черный с белым'),\n",
       " ('16', 'красный'),\n",
       " ('17', 'черепаховый'),\n",
       " ('18', 'соболиный'),\n",
       " ('19', 'голубой с белым'),\n",
       " ('20', 'шоколадный'),\n",
       " ('21', 'дымчатый'),\n",
       " ('22', 'золотой'),\n",
       " ('23', 'арлекин'),\n",
       " ('24', 'фавн (бежевый)'),\n",
       " ('25', 'черно-красный-белый'),\n",
       " ('26', 'красный с белым'),\n",
       " ('27', 'абркосовый'),\n",
       " ('28', 'мраморный'),\n",
       " ('29', 'голубо-кремовый черепаховый')]"
      ]
     },
     "execution_count": 20,
     "metadata": {},
     "output_type": "execute_result"
    }
   ],
   "source": [
    "color = [(str(ind+1), key) for ind, key in enumerate(df.animal__color.value_counts().index)]\n",
    "color"
   ]
  },
  {
   "cell_type": "code",
   "execution_count": 6,
   "metadata": {},
   "outputs": [
    {
     "data": {
      "text/plain": [
       "Передача в собственность (под опеку)    68\n",
       "Смерть                                  31\n",
       "Name: animal_shelter__leave_reason, dtype: int64"
      ]
     },
     "execution_count": 6,
     "metadata": {},
     "output_type": "execute_result"
    }
   ],
   "source": [
    "df.animal_shelter__leave_reason.value_counts()"
   ]
  },
  {
   "cell_type": "code",
   "execution_count": 21,
   "metadata": {},
   "outputs": [
    {
     "data": {
      "text/plain": [
       "[('1', 'Короткая'), ('2', 'Обычная'), ('3', 'Длинная'), ('4', 'Гладкая')]"
      ]
     },
     "execution_count": 21,
     "metadata": {},
     "output_type": "execute_result"
    }
   ],
   "source": [
    "wool = [(str(ind+1), key) for ind, key in enumerate(df.animal__wool.value_counts().index)]\n",
    "wool"
   ]
  },
  {
   "cell_type": "code",
   "execution_count": 22,
   "metadata": {},
   "outputs": [
    {
     "data": {
      "text/plain": [
       "[('1', 'Стоячие'),\n",
       " ('2', 'Полустоячие'),\n",
       " ('3', 'Висячие'),\n",
       " ('4', 'Купированные')]"
      ]
     },
     "execution_count": 22,
     "metadata": {},
     "output_type": "execute_result"
    }
   ],
   "source": [
    "ears = [(str(ind+1), key) for ind, key in enumerate(df.animal__ears.value_counts().index)]\n",
    "ears"
   ]
  },
  {
   "cell_type": "code",
   "execution_count": 23,
   "metadata": {},
   "outputs": [
    {
     "data": {
      "text/plain": [
       "[('1', 'Средний'), ('2', 'Малый'), ('3', 'Крупный'), ('4', 'Большой')]"
      ]
     },
     "execution_count": 23,
     "metadata": {},
     "output_type": "execute_result"
    }
   ],
   "source": [
    "size = [(str(ind+1), key) for ind, key in enumerate(df.animal__size.value_counts().index)]\n",
    "size"
   ]
  },
  {
   "cell_type": "code",
   "execution_count": 13,
   "metadata": {},
   "outputs": [
    {
     "data": {
      "text/plain": [
       "Обычный         225\n",
       "Саблевидный      13\n",
       "Купированный      1\n",
       "Крючком           1\n",
       "Прутом            1\n",
       "Поленом           1\n",
       "Name: animal__tail, dtype: int64"
      ]
     },
     "execution_count": 13,
     "metadata": {},
     "output_type": "execute_result"
    }
   ],
   "source": [
    "df.animal__tail.value_counts()"
   ]
  },
  {
   "cell_type": "code",
   "execution_count": 1326,
   "metadata": {},
   "outputs": [
    {
     "data": {
      "text/plain": [
       "643090000460843    2\n",
       "643115161713764    2\n",
       "900115001458175    1\n",
       "643093300135061    1\n",
       "900115001457834    1\n",
       "                  ..\n",
       "900115001364916    1\n",
       "900115001364973    1\n",
       "643090000457534    1\n",
       "643090000457533    1\n",
       "900115001458176    1\n",
       "Name: animal__identification_number, Length: 240, dtype: int64"
      ]
     },
     "execution_count": 1326,
     "metadata": {},
     "output_type": "execute_result"
    }
   ],
   "source": [
    "df.animal__identification_number.value_counts()"
   ]
  },
  {
   "cell_type": "code",
   "execution_count": 91,
   "metadata": {},
   "outputs": [],
   "source": [
    "row = {}\n",
    "\n",
    "for col in df.columns:\n",
    "    if len(col.split('__')) != 2:\n",
    "        continue \n",
    "        \n",
    "    if not col.split('__')[0] in row:\n",
    "        row[col.split('__')[0]] = [col.split('__')[1]]\n",
    "    else:\n",
    "        row[col.split('__')[0]].append(col.split('__')[1])"
   ]
  },
  {
   "cell_type": "code",
   "execution_count": 92,
   "metadata": {},
   "outputs": [
    {
     "data": {
      "text/plain": [
       "dict_keys(['animal', 'animal_shelter', 'animal_capture', 'owner_entity', 'owner_individual', 'shelter', 'animal_schelter', 'animal_drug', 'animal_vacine', 'animal_inspection'])"
      ]
     },
     "execution_count": 92,
     "metadata": {},
     "output_type": "execute_result"
    }
   ],
   "source": [
    "row.keys()"
   ]
  },
  {
   "cell_type": "code",
   "execution_count": 1031,
   "metadata": {},
   "outputs": [
    {
     "name": "stdout",
     "output_type": "stream",
     "text": [
      "arrived_date\n",
      "arrived_act\n",
      "leave_date\n",
      "leave_reason\n",
      "leave_act\n"
     ]
    }
   ],
   "source": [
    "for x in row['animal_shelter']:\n",
    "    print(x)"
   ]
  },
  {
   "cell_type": "code",
   "execution_count": null,
   "metadata": {},
   "outputs": [],
   "source": []
  }
 ],
 "metadata": {
  "kernelspec": {
   "display_name": "cs102",
   "language": "python",
   "name": "cs102"
  },
  "language_info": {
   "codemirror_mode": {
    "name": "ipython",
    "version": 3
   },
   "file_extension": ".py",
   "mimetype": "text/x-python",
   "name": "python",
   "nbconvert_exporter": "python",
   "pygments_lexer": "ipython3",
   "version": "3.8.3"
  }
 },
 "nbformat": 4,
 "nbformat_minor": 4
}
